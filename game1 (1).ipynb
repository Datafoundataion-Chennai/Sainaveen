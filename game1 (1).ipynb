{
 "cells": [
  {
   "cell_type": "code",
   "execution_count": 1,
   "id": "a65a483b-4d1c-41cb-bbeb-b26b27dfb2b1",
   "metadata": {},
   "outputs": [
    {
     "name": "stdout",
     "output_type": "stream",
     "text": [
      "name= sai health= 100 attack_power= 50 defense= 30 speed= 60\n",
      "rage= 10\n"
     ]
    }
   ],
   "source": [
    "class Character:\n",
    "    def __init__(self,name,health,attack_power,defense,speed):\n",
    "        self.name=name\n",
    "        self.health=health\n",
    "        self.attack_power=attack_power\n",
    "        self.defense=defense\n",
    "        self.speed=speed\n",
    "    def is_Attack(self,attack):\n",
    "        self.attack=attack\n",
    "    def is_Damage(self,damage):\n",
    "        self.damage=damage\n",
    "        \n",
    "    def display1(self):\n",
    "        print(\"name=\",self.name,\"health=\",self.health,\"attack_power=\",self.attack_power,\"defense=\",self.defense,\"speed=\",self.speed)\n",
    "c=Character(\"sai\",100,50,30,60)\n",
    "class Warrior(Character):\n",
    "    def __init__(self,rage):\n",
    "        self.rage=rage\n",
    "    def display2(self):\n",
    "        print(\"rage=\",self.rage)\n",
    "c.display1()\n",
    "w=Warrior(10)\n",
    "w.display2()"
   ]
  },
  {
   "cell_type": "code",
   "execution_count": null,
   "id": "c528515b-d49d-4b86-ba3c-97a4eb5a41c5",
   "metadata": {},
   "outputs": [],
   "source": []
  }
 ],
 "metadata": {
  "kernelspec": {
   "display_name": "Python [conda env:base] *",
   "language": "python",
   "name": "conda-base-py"
  },
  "language_info": {
   "codemirror_mode": {
    "name": "ipython",
    "version": 3
   },
   "file_extension": ".py",
   "mimetype": "text/x-python",
   "name": "python",
   "nbconvert_exporter": "python",
   "pygments_lexer": "ipython3",
   "version": "3.12.7"
  }
 },
 "nbformat": 4,
 "nbformat_minor": 5
}
